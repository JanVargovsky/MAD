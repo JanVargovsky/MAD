{
 "cells": [
  {
   "cell_type": "code",
   "execution_count": 1,
   "metadata": {},
   "outputs": [],
   "source": [
    "import pandas as pd"
   ]
  },
  {
   "cell_type": "code",
   "execution_count": 2,
   "metadata": {},
   "outputs": [],
   "source": [
    "df = pd.read_csv('../Datasets/iris.csv', sep=';', names=[\"sepal length\", \"sepal width\", \"petal length\", \"petal width\", \"class\"])"
   ]
  },
  {
   "cell_type": "code",
   "execution_count": 3,
   "metadata": {},
   "outputs": [
    {
     "data": {
      "text/html": [
       "<div>\n",
       "<style scoped>\n",
       "    .dataframe tbody tr th:only-of-type {\n",
       "        vertical-align: middle;\n",
       "    }\n",
       "\n",
       "    .dataframe tbody tr th {\n",
       "        vertical-align: top;\n",
       "    }\n",
       "\n",
       "    .dataframe thead th {\n",
       "        text-align: right;\n",
       "    }\n",
       "</style>\n",
       "<table border=\"1\" class=\"dataframe\">\n",
       "  <thead>\n",
       "    <tr style=\"text-align: right;\">\n",
       "      <th></th>\n",
       "      <th>sepal length</th>\n",
       "      <th>sepal width</th>\n",
       "      <th>petal length</th>\n",
       "      <th>petal width</th>\n",
       "      <th>class</th>\n",
       "    </tr>\n",
       "  </thead>\n",
       "  <tbody>\n",
       "    <tr>\n",
       "      <th>0</th>\n",
       "      <td>5.1</td>\n",
       "      <td>3.5</td>\n",
       "      <td>1.4</td>\n",
       "      <td>0.2</td>\n",
       "      <td>0</td>\n",
       "    </tr>\n",
       "    <tr>\n",
       "      <th>1</th>\n",
       "      <td>4.9</td>\n",
       "      <td>3.0</td>\n",
       "      <td>1.4</td>\n",
       "      <td>0.2</td>\n",
       "      <td>0</td>\n",
       "    </tr>\n",
       "    <tr>\n",
       "      <th>2</th>\n",
       "      <td>4.7</td>\n",
       "      <td>3.2</td>\n",
       "      <td>1.3</td>\n",
       "      <td>0.2</td>\n",
       "      <td>0</td>\n",
       "    </tr>\n",
       "    <tr>\n",
       "      <th>3</th>\n",
       "      <td>4.6</td>\n",
       "      <td>3.1</td>\n",
       "      <td>1.5</td>\n",
       "      <td>0.2</td>\n",
       "      <td>0</td>\n",
       "    </tr>\n",
       "    <tr>\n",
       "      <th>4</th>\n",
       "      <td>5.0</td>\n",
       "      <td>3.6</td>\n",
       "      <td>1.4</td>\n",
       "      <td>0.2</td>\n",
       "      <td>0</td>\n",
       "    </tr>\n",
       "  </tbody>\n",
       "</table>\n",
       "</div>"
      ],
      "text/plain": [
       "   sepal length  sepal width  petal length  petal width  class\n",
       "0           5.1          3.5           1.4          0.2      0\n",
       "1           4.9          3.0           1.4          0.2      0\n",
       "2           4.7          3.2           1.3          0.2      0\n",
       "3           4.6          3.1           1.5          0.2      0\n",
       "4           5.0          3.6           1.4          0.2      0"
      ]
     },
     "execution_count": 3,
     "metadata": {},
     "output_type": "execute_result"
    }
   ],
   "source": [
    "df.head()"
   ]
  },
  {
   "cell_type": "code",
   "execution_count": 4,
   "metadata": {},
   "outputs": [],
   "source": [
    "def gini(classes):\n",
    "    groups = {}\n",
    "    for v in classes:\n",
    "        if not v in groups:\n",
    "            groups[v] = 0\n",
    "        groups[v] = groups[v] + 1 \n",
    "    #print(\"groups\", groups)\n",
    "    return 1 - sum(map(lambda p: (p / len(classes)) ** 2, groups.values()))\n",
    "\n",
    "def weighted_gini(classes, split_index):\n",
    "    g1 = gini(classes[:split_index])\n",
    "    g2 = gini(classes[split_index:])\n",
    "    #print(\"g1\", g1, \"g2\", g2)\n",
    "    g1w = g1 * (split_index / len(classes))\n",
    "    g2w = g2 * ((len(classes) - split_index) / len(classes))\n",
    "    #print(\"g1w\", g1w, \"g2w\", g2w)\n",
    "    return g1w + g2w\n",
    "\n",
    "def find_best_gini(df):\n",
    "    i = -1 # column\n",
    "    g = 100 # worst gini\n",
    "    s = -1 # split\n",
    "    v = None # split value\n",
    "    \n",
    "    for column_index, column in enumerate(df.columns[:-1]):\n",
    "        #print(\"COLUMN\", column)\n",
    "        df = df.sort_values(by=column)\n",
    "        #display(df.head())\n",
    "        for split in range(1, len(df)):\n",
    "            #print(split)\n",
    "            v1 = df.iloc[split - 1, column_index]\n",
    "            #print(\"v1\", v1)\n",
    "            v2 = df.iloc[split, column_index]\n",
    "            #print(\"v2\", v2)\n",
    "            if v1 == v2:\n",
    "                # edge case when there are only records with same value \n",
    "                #print(\"Equal indexes {}\".format(v1))\n",
    "                continue\n",
    "            newG = weighted_gini(df[df.columns[-1]], split)\n",
    "            if newG < g:\n",
    "                i, g, s, v = column, newG, split, (v1 + v2) / 2\n",
    "                #print(\"column=\", i, \"g=\", g, \"s=\", s, \"v=\", v, v1, v2)\n",
    "        #print(\"column=\", i, \"g=\", g, \"s=\", s, \"v=\", v)\n",
    "    #print(\"column=\", i, \"g=\", g, \"s=\", s, \"v=\", v)\n",
    "    return i, g, v"
   ]
  },
  {
   "cell_type": "code",
   "execution_count": 5,
   "metadata": {},
   "outputs": [
    {
     "data": {
      "text/plain": [
       "column=petal length, gini=0.3333333333333333, value=2.45, samples=150"
      ]
     },
     "metadata": {},
     "output_type": "display_data"
    },
    {
     "name": "stdout",
     "output_type": "stream",
     "text": [
      "depth 0 column=petal length, gini=0.3333333333333333, value=2.45, samples=150 Index(['sepal length', 'sepal width', 'petal length', 'petal width', 'class'], dtype='object')\n"
     ]
    },
    {
     "data": {
      "text/plain": [
       "column=sepal length, gini=0.0, value=4.35, samples=50"
      ]
     },
     "metadata": {},
     "output_type": "display_data"
    },
    {
     "name": "stdout",
     "output_type": "stream",
     "text": [
      "build left\n",
      "depth 1 column=sepal length, gini=0.0, value=4.35, samples=50 Index(['sepal length', 'sepal width', 'petal length', 'petal width', 'class'], dtype='object')\n",
      "leaf 0\n"
     ]
    },
    {
     "data": {
      "text/plain": [
       "column=petal width, gini=0.11030595813204513, value=1.75, samples=100"
      ]
     },
     "metadata": {},
     "output_type": "display_data"
    },
    {
     "name": "stdout",
     "output_type": "stream",
     "text": [
      "build right\n",
      "depth 1 column=petal width, gini=0.11030595813204513, value=1.75, samples=100 Index(['sepal length', 'sepal width', 'petal length', 'petal width', 'class'], dtype='object')\n"
     ]
    },
    {
     "data": {
      "text/plain": [
       "column=petal length, gini=0.0856481481481482, value=4.95, samples=54"
      ]
     },
     "metadata": {},
     "output_type": "display_data"
    },
    {
     "name": "stdout",
     "output_type": "stream",
     "text": [
      "build left\n",
      "depth 2 column=petal length, gini=0.0856481481481482, value=4.95, samples=54 Index(['sepal length', 'sepal width', 'petal length', 'petal width', 'class'], dtype='object')\n"
     ]
    },
    {
     "data": {
      "text/plain": [
       "column=petal width, gini=0.0, value=1.65, samples=48"
      ]
     },
     "metadata": {},
     "output_type": "display_data"
    },
    {
     "name": "stdout",
     "output_type": "stream",
     "text": [
      "build left\n",
      "depth 3 column=petal width, gini=0.0, value=1.65, samples=48 Index(['sepal length', 'sepal width', 'petal length', 'petal width', 'class'], dtype='object')\n"
     ]
    },
    {
     "data": {
      "text/plain": [
       "column=sepal length, gini=0.0, value=4.95, samples=47"
      ]
     },
     "metadata": {},
     "output_type": "display_data"
    },
    {
     "name": "stdout",
     "output_type": "stream",
     "text": [
      "build left\n",
      "depth 4 column=sepal length, gini=0.0, value=4.95, samples=47 Index(['sepal length', 'sepal width', 'petal length', 'petal width', 'class'], dtype='object')\n",
      "leaf 1\n"
     ]
    },
    {
     "data": {
      "text/plain": [
       "column=-1, gini=100, value=None, samples=1"
      ]
     },
     "metadata": {},
     "output_type": "display_data"
    },
    {
     "name": "stdout",
     "output_type": "stream",
     "text": [
      "build right\n",
      "depth 4 column=-1, gini=100, value=None, samples=1 Index(['sepal length', 'sepal width', 'petal length', 'petal width', 'class'], dtype='object')\n",
      "leaf 2\n"
     ]
    },
    {
     "data": {
      "text/plain": [
       "column=petal width, gini=0.2222222222222222, value=1.55, samples=6"
      ]
     },
     "metadata": {},
     "output_type": "display_data"
    },
    {
     "name": "stdout",
     "output_type": "stream",
     "text": [
      "build right\n",
      "depth 3 column=petal width, gini=0.2222222222222222, value=1.55, samples=6 Index(['sepal length', 'sepal width', 'petal length', 'petal width', 'class'], dtype='object')\n"
     ]
    },
    {
     "data": {
      "text/plain": [
       "column=sepal length, gini=0.0, value=6.05, samples=3"
      ]
     },
     "metadata": {},
     "output_type": "display_data"
    },
    {
     "name": "stdout",
     "output_type": "stream",
     "text": [
      "build left\n",
      "depth 4 column=sepal length, gini=0.0, value=6.05, samples=3 Index(['sepal length', 'sepal width', 'petal length', 'petal width', 'class'], dtype='object')\n",
      "leaf 2\n"
     ]
    },
    {
     "data": {
      "text/plain": [
       "column=sepal length, gini=0.0, value=6.95, samples=3"
      ]
     },
     "metadata": {},
     "output_type": "display_data"
    },
    {
     "name": "stdout",
     "output_type": "stream",
     "text": [
      "build right\n",
      "depth 4 column=sepal length, gini=0.0, value=6.95, samples=3 Index(['sepal length', 'sepal width', 'petal length', 'petal width', 'class'], dtype='object')\n"
     ]
    },
    {
     "data": {
      "text/plain": [
       "column=sepal length, gini=0.0, value=6.35, samples=2"
      ]
     },
     "metadata": {},
     "output_type": "display_data"
    },
    {
     "name": "stdout",
     "output_type": "stream",
     "text": [
      "build left\n",
      "depth 5 column=sepal length, gini=0.0, value=6.35, samples=2 Index(['sepal length', 'sepal width', 'petal length', 'petal width', 'class'], dtype='object')\n",
      "leaf 1\n"
     ]
    },
    {
     "data": {
      "text/plain": [
       "column=-1, gini=100, value=None, samples=1"
      ]
     },
     "metadata": {},
     "output_type": "display_data"
    },
    {
     "name": "stdout",
     "output_type": "stream",
     "text": [
      "build right\n",
      "depth 5 column=-1, gini=100, value=None, samples=1 Index(['sepal length', 'sepal width', 'petal length', 'petal width', 'class'], dtype='object')\n",
      "leaf 2\n"
     ]
    },
    {
     "data": {
      "text/plain": [
       "column=petal length, gini=0.02898550724637681, value=4.85, samples=46"
      ]
     },
     "metadata": {},
     "output_type": "display_data"
    },
    {
     "name": "stdout",
     "output_type": "stream",
     "text": [
      "build right\n",
      "depth 2 column=petal length, gini=0.02898550724637681, value=4.85, samples=46 Index(['sepal length', 'sepal width', 'petal length', 'petal width', 'class'], dtype='object')\n"
     ]
    },
    {
     "data": {
      "text/plain": [
       "column=sepal length, gini=0.0, value=5.95, samples=3"
      ]
     },
     "metadata": {},
     "output_type": "display_data"
    },
    {
     "name": "stdout",
     "output_type": "stream",
     "text": [
      "build left\n",
      "depth 3 column=sepal length, gini=0.0, value=5.95, samples=3 Index(['sepal length', 'sepal width', 'petal length', 'petal width', 'class'], dtype='object')\n"
     ]
    },
    {
     "data": {
      "text/plain": [
       "column=-1, gini=100, value=None, samples=1"
      ]
     },
     "metadata": {},
     "output_type": "display_data"
    },
    {
     "name": "stdout",
     "output_type": "stream",
     "text": [
      "build left\n",
      "depth 4 column=-1, gini=100, value=None, samples=1 Index(['sepal length', 'sepal width', 'petal length', 'petal width', 'class'], dtype='object')\n",
      "leaf 1\n"
     ]
    },
    {
     "data": {
      "text/plain": [
       "column=sepal length, gini=0.0, value=6.1, samples=2"
      ]
     },
     "metadata": {},
     "output_type": "display_data"
    },
    {
     "name": "stdout",
     "output_type": "stream",
     "text": [
      "build right\n",
      "depth 4 column=sepal length, gini=0.0, value=6.1, samples=2 Index(['sepal length', 'sepal width', 'petal length', 'petal width', 'class'], dtype='object')\n",
      "leaf 2\n"
     ]
    },
    {
     "data": {
      "text/plain": [
       "column=sepal length, gini=0.0, value=5.65, samples=43"
      ]
     },
     "metadata": {},
     "output_type": "display_data"
    },
    {
     "name": "stdout",
     "output_type": "stream",
     "text": [
      "build right\n",
      "depth 3 column=sepal length, gini=0.0, value=5.65, samples=43 Index(['sepal length', 'sepal width', 'petal length', 'petal width', 'class'], dtype='object')\n",
      "leaf 2\n"
     ]
    }
   ],
   "source": [
    "class Node:\n",
    "    def __init__(self, column, gini, value, samples):\n",
    "        self.column = column\n",
    "        self.gini = gini\n",
    "        self.value = value\n",
    "        self.samples = samples\n",
    "        self.left = None\n",
    "        self.right = None\n",
    "    \n",
    "    def __repr__(self):\n",
    "        return \"column={}, gini={}, value={}, samples={}\".format(self.column, self.gini, self.value, self.samples)\n",
    "    \n",
    "    def is_leaf(self):\n",
    "        return self.left is None and self.right is None\n",
    "\n",
    "class DecisionTree:\n",
    "    def __init__(self, root):\n",
    "        self.root = root\n",
    "    \n",
    "    def predict(self, values):\n",
    "        node = self.root\n",
    "        while not node.is_leaf():\n",
    "            if values[node.column] <= node.value:\n",
    "                #print(\"go left\")\n",
    "                node = node.left\n",
    "            else:\n",
    "                #print(\"go right\")\n",
    "                node = node.right\n",
    "        return node.value\n",
    "\n",
    "def build_decision_tree(df):\n",
    "    def build_node(df):\n",
    "        column, gini, value = find_best_gini(df)\n",
    "        #display(df.head())\n",
    "        node = Node(column, gini, value, len(df))\n",
    "        display(node)\n",
    "        return node\n",
    "    \n",
    "    def build_node_recursively(parent, df, depth):\n",
    "        print(\"depth\", depth, parent, df.columns)\n",
    "        if len(df) == 0:\n",
    "            print(\"fail\")\n",
    "            return\n",
    "        values = df[df.columns[-1]].unique()\n",
    "        #print(values)\n",
    "        if len(values) == 1:\n",
    "            print(\"leaf\", values[0])\n",
    "            parent.value = values[0]\n",
    "            return\n",
    "        \n",
    "        left_df = df[df[parent.column] <= parent.value]\n",
    "        parent.left = build_node(left_df)\n",
    "        print(\"build left\")\n",
    "        build_node_recursively(parent.left, left_df, depth + 1)\n",
    "        \n",
    "        right_df = df[df[parent.column] > parent.value]\n",
    "        parent.right = build_node(right_df)\n",
    "        print(\"build right\")\n",
    "        build_node_recursively(parent.right, right_df, depth + 1)\n",
    "        \n",
    "    root = build_node(df)\n",
    "    build_node_recursively(root, df, 0)\n",
    "    \n",
    "    return DecisionTree(root)\n",
    "\n",
    "tree = build_decision_tree(df)"
   ]
  },
  {
   "cell_type": "code",
   "execution_count": 6,
   "metadata": {},
   "outputs": [
    {
     "name": "stdout",
     "output_type": "stream",
     "text": [
      "Correct=150/150\n"
     ]
    }
   ],
   "source": [
    "correct = 0\n",
    "for i in range(len(df)):\n",
    "    label = df.iloc[i]['class']\n",
    "    predicted = tree.predict(df.iloc[i])\n",
    "    if label == predicted:\n",
    "        correct += 1\n",
    "    \n",
    "print(\"Correct={}/{}\".format(correct, len(df)))"
   ]
  },
  {
   "cell_type": "code",
   "execution_count": 7,
   "metadata": {},
   "outputs": [
    {
     "data": {
      "text/plain": [
       "['Iris-setosa', 'Iris-versicolor', 'Iris-virginica']"
      ]
     },
     "metadata": {},
     "output_type": "display_data"
    },
    {
     "name": "stdout",
     "output_type": "stream",
     "text": [
      "                            ┌class=0, s=50\n",
      " petal length, v=2.45, s=150┤\n",
      "                            │                                                     ┌class=2, s=43\n",
      "                            │                          ┌petal length, v=4.85, s=46┤\n",
      "                            │                          │                          │                         ┌class=1, s=1\n",
      "                            │                          │                          └sepal length, v=5.95, s=3┤\n",
      "                            │                          │                                                    └class=2, s=2\n",
      "                            └petal width, v=1.75, s=100┤\n",
      "                                                       │                                                    ┌class=1, s=47\n",
      "                                                       │                          ┌petal width, v=1.65, s=48┤\n",
      "                                                       │                          │                         └class=2, s=1\n",
      "                                                       └petal length, v=4.95, s=54┤\n",
      "                                                                                  │                        ┌class=2, s=3\n",
      "                                                                                  └petal width, v=1.55, s=6┤\n",
      "                                                                                                           │                         ┌class=1, s=2\n",
      "                                                                                                           └sepal length, v=6.95, s=3┤\n",
      "                                                                                                                                     └class=2, s=1\n"
     ]
    }
   ],
   "source": [
    "def print_tree(current_node, indent='', last='updown'):\n",
    "    def name(node):\n",
    "        if current_node.is_leaf():\n",
    "            return \"class={}, s={}\".format(node.value, node.samples)\n",
    "        else:\n",
    "            return \"{}, v={}, s={}\".format(node.column, node.value, node.samples)\n",
    "\n",
    "    children = lambda node: [] if node.is_leaf() else [node.left, node.right]\n",
    "    nb_children = lambda node: sum(nb_children(child) for child in children(node)) + 1\n",
    "    size_branch = {child: nb_children(child) for child in children(current_node)}\n",
    "\n",
    "    \"\"\" Creation of balanced lists for \"up\" branch and \"down\" branch. \"\"\"\n",
    "    up = sorted(children(current_node), key=lambda node: nb_children(node))\n",
    "    down = []\n",
    "    while up and sum(size_branch[node] for node in down) < sum(size_branch[node] for node in up):\n",
    "        down.append(up.pop())\n",
    "\n",
    "    \"\"\" Printing of \"up\" branch. \"\"\"\n",
    "    for child in up:\n",
    "        next_last = 'up' if up.index(child) is 0 else ''\n",
    "        next_indent = '{0}{1}{2}'.format(indent, ' ' if 'up' in last else '│', ' ' * len(name(current_node)))\n",
    "        print_tree(child, next_indent, next_last)\n",
    "\n",
    "    \"\"\" Printing of current node. \"\"\"\n",
    "    if last == 'up': start_shape = '┌'\n",
    "    elif last == 'down': start_shape = '└'\n",
    "    elif last == 'updown': start_shape = ' '\n",
    "    else: start_shape = '├'\n",
    "\n",
    "    if up: end_shape = '┤'\n",
    "    elif down: end_shape = '┐'\n",
    "    else: end_shape = ''\n",
    "\n",
    "    print('{0}{1}{2}{3}'.format(indent, start_shape, name(current_node), end_shape))\n",
    "\n",
    "    \"\"\" Printing of \"down\" branch. \"\"\"\n",
    "    for child in down:\n",
    "        next_last = 'down' if down.index(child) is len(down) - 1 else ''\n",
    "        next_indent = '{0}{1}{2}'.format(indent, ' ' if 'down' in last else '│', ' ' * len(name(current_node)))\n",
    "        print_tree(child, next_indent, next_last)\n",
    "\n",
    "display([\"Iris-setosa\", \"Iris-versicolor\", \"Iris-virginica\"])\n",
    "print_tree(tree.root)"
   ]
  },
  {
   "cell_type": "code",
   "execution_count": 8,
   "metadata": {},
   "outputs": [
    {
     "name": "stdout",
     "output_type": "stream",
     "text": [
      "column=petal length, value=2.45\n",
      "     column=sepal length, class=0\n",
      "     column=petal width, value=1.75\n",
      "          column=petal length, value=4.95\n",
      "               column=petal width, value=1.65\n",
      "                    column=sepal length, class=1\n",
      "                    column=-1, class=2\n",
      "               column=petal width, value=1.55\n",
      "                    column=sepal length, class=2\n",
      "                    column=sepal length, value=6.95\n",
      "                         column=sepal length, class=1\n",
      "                         column=-1, class=2\n",
      "          column=petal length, value=4.85\n",
      "               column=sepal length, value=5.95\n",
      "                    column=-1, class=1\n",
      "                    column=sepal length, class=2\n",
      "               column=sepal length, class=2\n"
     ]
    }
   ],
   "source": [
    "def print_tree_simple(node, depth):\n",
    "    if node == None:\n",
    "        return\n",
    "    \n",
    "    type = \"class\" if node.is_leaf() else \"value\"\n",
    "    print(\"{}column={}, {}={}\".format(' ' * depth * 5, node.column, type, node.value))\n",
    "    print_tree_simple(node.left, depth + 1)\n",
    "    print_tree_simple(node.right, depth + 1)\n",
    "\n",
    "print_tree_simple(tree.root, 0)"
   ]
  }
 ],
 "metadata": {
  "kernelspec": {
   "display_name": "Python 3",
   "language": "python",
   "name": "python3"
  },
  "language_info": {
   "codemirror_mode": {
    "name": "ipython",
    "version": 3
   },
   "file_extension": ".py",
   "mimetype": "text/x-python",
   "name": "python",
   "nbconvert_exporter": "python",
   "pygments_lexer": "ipython3",
   "version": "3.7.0"
  }
 },
 "nbformat": 4,
 "nbformat_minor": 2
}
