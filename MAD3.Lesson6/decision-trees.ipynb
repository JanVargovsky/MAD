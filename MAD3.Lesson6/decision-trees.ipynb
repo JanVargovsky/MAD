{
 "cells": [
  {
   "cell_type": "code",
   "execution_count": 1,
   "metadata": {},
   "outputs": [],
   "source": [
    "import pandas as pd"
   ]
  },
  {
   "cell_type": "code",
   "execution_count": 20,
   "metadata": {},
   "outputs": [
    {
     "data": {
      "text/html": [
       "<div>\n",
       "<style scoped>\n",
       "    .dataframe tbody tr th:only-of-type {\n",
       "        vertical-align: middle;\n",
       "    }\n",
       "\n",
       "    .dataframe tbody tr th {\n",
       "        vertical-align: top;\n",
       "    }\n",
       "\n",
       "    .dataframe thead th {\n",
       "        text-align: right;\n",
       "    }\n",
       "</style>\n",
       "<table border=\"1\" class=\"dataframe\">\n",
       "  <thead>\n",
       "    <tr style=\"text-align: right;\">\n",
       "      <th></th>\n",
       "      <th>sepal length</th>\n",
       "      <th>sepal width</th>\n",
       "      <th>petal length</th>\n",
       "      <th>petal width</th>\n",
       "      <th>class</th>\n",
       "    </tr>\n",
       "  </thead>\n",
       "  <tbody>\n",
       "    <tr>\n",
       "      <th>0</th>\n",
       "      <td>5.1</td>\n",
       "      <td>3.5</td>\n",
       "      <td>1.4</td>\n",
       "      <td>0.2</td>\n",
       "      <td>0</td>\n",
       "    </tr>\n",
       "    <tr>\n",
       "      <th>1</th>\n",
       "      <td>4.9</td>\n",
       "      <td>3.0</td>\n",
       "      <td>1.4</td>\n",
       "      <td>0.2</td>\n",
       "      <td>0</td>\n",
       "    </tr>\n",
       "    <tr>\n",
       "      <th>2</th>\n",
       "      <td>4.7</td>\n",
       "      <td>3.2</td>\n",
       "      <td>1.3</td>\n",
       "      <td>0.2</td>\n",
       "      <td>0</td>\n",
       "    </tr>\n",
       "    <tr>\n",
       "      <th>3</th>\n",
       "      <td>4.6</td>\n",
       "      <td>3.1</td>\n",
       "      <td>1.5</td>\n",
       "      <td>0.2</td>\n",
       "      <td>0</td>\n",
       "    </tr>\n",
       "    <tr>\n",
       "      <th>4</th>\n",
       "      <td>5.0</td>\n",
       "      <td>3.6</td>\n",
       "      <td>1.4</td>\n",
       "      <td>0.2</td>\n",
       "      <td>0</td>\n",
       "    </tr>\n",
       "  </tbody>\n",
       "</table>\n",
       "</div>"
      ],
      "text/plain": [
       "   sepal length  sepal width  petal length  petal width  class\n",
       "0           5.1          3.5           1.4          0.2      0\n",
       "1           4.9          3.0           1.4          0.2      0\n",
       "2           4.7          3.2           1.3          0.2      0\n",
       "3           4.6          3.1           1.5          0.2      0\n",
       "4           5.0          3.6           1.4          0.2      0"
      ]
     },
     "execution_count": 20,
     "metadata": {},
     "output_type": "execute_result"
    }
   ],
   "source": [
    "iris = pd.read_csv('../Datasets/iris.csv', sep=';', names=[\"sepal length\", \"sepal width\", \"petal length\", \"petal width\", \"class\"])\n",
    "iris.name = \"iris\"\n",
    "iris.head()"
   ]
  },
  {
   "cell_type": "code",
   "execution_count": 22,
   "metadata": {},
   "outputs": [
    {
     "data": {
      "text/html": [
       "<div>\n",
       "<style scoped>\n",
       "    .dataframe tbody tr th:only-of-type {\n",
       "        vertical-align: middle;\n",
       "    }\n",
       "\n",
       "    .dataframe tbody tr th {\n",
       "        vertical-align: top;\n",
       "    }\n",
       "\n",
       "    .dataframe thead th {\n",
       "        text-align: right;\n",
       "    }\n",
       "</style>\n",
       "<table border=\"1\" class=\"dataframe\">\n",
       "  <thead>\n",
       "    <tr style=\"text-align: right;\">\n",
       "      <th></th>\n",
       "      <th>0</th>\n",
       "      <th>1</th>\n",
       "      <th>2</th>\n",
       "    </tr>\n",
       "  </thead>\n",
       "  <tbody>\n",
       "    <tr>\n",
       "      <th>0</th>\n",
       "      <td>1.70</td>\n",
       "      <td>0.15</td>\n",
       "      <td>1</td>\n",
       "    </tr>\n",
       "    <tr>\n",
       "      <th>1</th>\n",
       "      <td>3.65</td>\n",
       "      <td>2.05</td>\n",
       "      <td>1</td>\n",
       "    </tr>\n",
       "    <tr>\n",
       "      <th>2</th>\n",
       "      <td>2.10</td>\n",
       "      <td>2.40</td>\n",
       "      <td>1</td>\n",
       "    </tr>\n",
       "    <tr>\n",
       "      <th>3</th>\n",
       "      <td>2.35</td>\n",
       "      <td>2.20</td>\n",
       "      <td>1</td>\n",
       "    </tr>\n",
       "    <tr>\n",
       "      <th>4</th>\n",
       "      <td>4.10</td>\n",
       "      <td>2.30</td>\n",
       "      <td>1</td>\n",
       "    </tr>\n",
       "  </tbody>\n",
       "</table>\n",
       "</div>"
      ],
      "text/plain": [
       "      0     1  2\n",
       "0  1.70  0.15  1\n",
       "1  3.65  2.05  1\n",
       "2  2.10  2.40  1\n",
       "3  2.35  2.20  1\n",
       "4  4.10  2.30  1"
      ]
     },
     "metadata": {},
     "output_type": "display_data"
    }
   ],
   "source": [
    "nonsep = pd.read_csv('../Datasets/nonsep.csv', sep=';', header=None)\n",
    "nonsep.name = \"non separable 2d\"\n",
    "display(nonsep.head())"
   ]
  },
  {
   "cell_type": "code",
   "execution_count": 23,
   "metadata": {},
   "outputs": [
    {
     "data": {
      "text/html": [
       "<div>\n",
       "<style scoped>\n",
       "    .dataframe tbody tr th:only-of-type {\n",
       "        vertical-align: middle;\n",
       "    }\n",
       "\n",
       "    .dataframe tbody tr th {\n",
       "        vertical-align: top;\n",
       "    }\n",
       "\n",
       "    .dataframe thead th {\n",
       "        text-align: right;\n",
       "    }\n",
       "</style>\n",
       "<table border=\"1\" class=\"dataframe\">\n",
       "  <thead>\n",
       "    <tr style=\"text-align: right;\">\n",
       "      <th></th>\n",
       "      <th>0</th>\n",
       "      <th>1</th>\n",
       "      <th>2</th>\n",
       "    </tr>\n",
       "  </thead>\n",
       "  <tbody>\n",
       "    <tr>\n",
       "      <th>0</th>\n",
       "      <td>1.70</td>\n",
       "      <td>0.15</td>\n",
       "      <td>1</td>\n",
       "    </tr>\n",
       "    <tr>\n",
       "      <th>1</th>\n",
       "      <td>3.65</td>\n",
       "      <td>2.05</td>\n",
       "      <td>1</td>\n",
       "    </tr>\n",
       "    <tr>\n",
       "      <th>2</th>\n",
       "      <td>2.10</td>\n",
       "      <td>2.40</td>\n",
       "      <td>1</td>\n",
       "    </tr>\n",
       "    <tr>\n",
       "      <th>3</th>\n",
       "      <td>2.35</td>\n",
       "      <td>2.20</td>\n",
       "      <td>1</td>\n",
       "    </tr>\n",
       "    <tr>\n",
       "      <th>4</th>\n",
       "      <td>4.10</td>\n",
       "      <td>2.30</td>\n",
       "      <td>1</td>\n",
       "    </tr>\n",
       "  </tbody>\n",
       "</table>\n",
       "</div>"
      ],
      "text/plain": [
       "      0     1  2\n",
       "0  1.70  0.15  1\n",
       "1  3.65  2.05  1\n",
       "2  2.10  2.40  1\n",
       "3  2.35  2.20  1\n",
       "4  4.10  2.30  1"
      ]
     },
     "metadata": {},
     "output_type": "display_data"
    }
   ],
   "source": [
    "sep = pd.read_csv('../Datasets/sep.csv', sep=';', header=None)\n",
    "sep.name = \"separable 2d\"\n",
    "display(sep.head())"
   ]
  },
  {
   "cell_type": "code",
   "execution_count": 24,
   "metadata": {},
   "outputs": [
    {
     "data": {
      "text/html": [
       "<div>\n",
       "<style scoped>\n",
       "    .dataframe tbody tr th:only-of-type {\n",
       "        vertical-align: middle;\n",
       "    }\n",
       "\n",
       "    .dataframe tbody tr th {\n",
       "        vertical-align: top;\n",
       "    }\n",
       "\n",
       "    .dataframe thead th {\n",
       "        text-align: right;\n",
       "    }\n",
       "</style>\n",
       "<table border=\"1\" class=\"dataframe\">\n",
       "  <thead>\n",
       "    <tr style=\"text-align: right;\">\n",
       "      <th></th>\n",
       "      <th>0</th>\n",
       "      <th>1</th>\n",
       "      <th>2</th>\n",
       "      <th>3</th>\n",
       "      <th>4</th>\n",
       "      <th>5</th>\n",
       "      <th>6</th>\n",
       "      <th>7</th>\n",
       "      <th>8</th>\n",
       "      <th>9</th>\n",
       "    </tr>\n",
       "  </thead>\n",
       "  <tbody>\n",
       "    <tr>\n",
       "      <th>0</th>\n",
       "      <td>x</td>\n",
       "      <td>x</td>\n",
       "      <td>x</td>\n",
       "      <td>x</td>\n",
       "      <td>o</td>\n",
       "      <td>o</td>\n",
       "      <td>x</td>\n",
       "      <td>o</td>\n",
       "      <td>o</td>\n",
       "      <td>1</td>\n",
       "    </tr>\n",
       "    <tr>\n",
       "      <th>1</th>\n",
       "      <td>x</td>\n",
       "      <td>x</td>\n",
       "      <td>x</td>\n",
       "      <td>x</td>\n",
       "      <td>o</td>\n",
       "      <td>o</td>\n",
       "      <td>o</td>\n",
       "      <td>x</td>\n",
       "      <td>o</td>\n",
       "      <td>1</td>\n",
       "    </tr>\n",
       "    <tr>\n",
       "      <th>2</th>\n",
       "      <td>x</td>\n",
       "      <td>x</td>\n",
       "      <td>x</td>\n",
       "      <td>x</td>\n",
       "      <td>o</td>\n",
       "      <td>o</td>\n",
       "      <td>o</td>\n",
       "      <td>o</td>\n",
       "      <td>x</td>\n",
       "      <td>1</td>\n",
       "    </tr>\n",
       "    <tr>\n",
       "      <th>3</th>\n",
       "      <td>x</td>\n",
       "      <td>x</td>\n",
       "      <td>x</td>\n",
       "      <td>x</td>\n",
       "      <td>o</td>\n",
       "      <td>o</td>\n",
       "      <td>o</td>\n",
       "      <td>b</td>\n",
       "      <td>b</td>\n",
       "      <td>1</td>\n",
       "    </tr>\n",
       "    <tr>\n",
       "      <th>4</th>\n",
       "      <td>x</td>\n",
       "      <td>x</td>\n",
       "      <td>x</td>\n",
       "      <td>x</td>\n",
       "      <td>o</td>\n",
       "      <td>o</td>\n",
       "      <td>b</td>\n",
       "      <td>o</td>\n",
       "      <td>b</td>\n",
       "      <td>1</td>\n",
       "    </tr>\n",
       "  </tbody>\n",
       "</table>\n",
       "</div>"
      ],
      "text/plain": [
       "   0  1  2  3  4  5  6  7  8  9\n",
       "0  x  x  x  x  o  o  x  o  o  1\n",
       "1  x  x  x  x  o  o  o  x  o  1\n",
       "2  x  x  x  x  o  o  o  o  x  1\n",
       "3  x  x  x  x  o  o  o  b  b  1\n",
       "4  x  x  x  x  o  o  b  o  b  1"
      ]
     },
     "metadata": {},
     "output_type": "display_data"
    }
   ],
   "source": [
    "tictactoe = pd.read_csv('../Datasets/tic-tac-toe.csv', sep=';', header=None)\n",
    "tictactoe.name = \"tic tac toe\"\n",
    "display(tictactoe.head())"
   ]
  },
  {
   "cell_type": "code",
   "execution_count": 25,
   "metadata": {},
   "outputs": [],
   "source": [
    "def gini(classes):\n",
    "    groups = {}\n",
    "    for v in classes:\n",
    "        if not v in groups:\n",
    "            groups[v] = 0\n",
    "        groups[v] = groups[v] + 1 \n",
    "    #print(\"groups\", groups)\n",
    "    return 1 - sum(map(lambda p: (p / len(classes)) ** 2, groups.values()))\n",
    "\n",
    "def weighted_gini(classes, split_index):\n",
    "    g1 = gini(classes[:split_index])\n",
    "    g2 = gini(classes[split_index:])\n",
    "    #print(\"g1\", g1, \"g2\", g2)\n",
    "    g1w = g1 * (split_index / len(classes))\n",
    "    g2w = g2 * ((len(classes) - split_index) / len(classes))\n",
    "    #print(\"g1w\", g1w, \"g2w\", g2w)\n",
    "    return g1w + g2w\n",
    "\n",
    "def find_best_gini(df):\n",
    "    i = -1 # column\n",
    "    g = 100 # worst gini\n",
    "    s = -1 # split\n",
    "    v = None # split value\n",
    "    \n",
    "    for column_index, column in enumerate(df.columns[:-1]):\n",
    "        #print(\"COLUMN\", column)\n",
    "        df = df.sort_values(by=column)\n",
    "        #display(df.head())\n",
    "        for split in range(1, len(df)):\n",
    "            #print(split)\n",
    "            v1 = df.iloc[split - 1, column_index]\n",
    "            #print(\"v1\", v1)\n",
    "            v2 = df.iloc[split, column_index]\n",
    "            #print(\"v2\", v2)\n",
    "            if v1 == v2:\n",
    "                # edge case when there are only records with same value \n",
    "                #print(\"Equal indexes {}\".format(v1))\n",
    "                continue\n",
    "            newG = weighted_gini(df[df.columns[-1]], split)\n",
    "            if newG < g:\n",
    "                i, g, s, v = column, newG, split, (v1 + v2) / 2\n",
    "                #print(\"column=\", i, \"g=\", g, \"s=\", s, \"v=\", v, v1, v2)\n",
    "        #print(\"column=\", i, \"g=\", g, \"s=\", s, \"v=\", v)\n",
    "    #print(\"column=\", i, \"g=\", g, \"s=\", s, \"v=\", v)\n",
    "    return i, g, v"
   ]
  },
  {
   "cell_type": "code",
   "execution_count": 26,
   "metadata": {},
   "outputs": [],
   "source": [
    "class Node:\n",
    "    def __init__(self, column, gini, value, samples):\n",
    "        self.column = column\n",
    "        self.gini = gini\n",
    "        self.value = value\n",
    "        self.samples = samples\n",
    "        self.left = None\n",
    "        self.right = None\n",
    "    \n",
    "    def __repr__(self):\n",
    "        return \"column={}, gini={}, value={}, samples={}\".format(self.column, self.gini, self.value, self.samples)\n",
    "    \n",
    "    def is_leaf(self):\n",
    "        return self.left is None and self.right is None\n",
    "\n",
    "class DecisionTree:\n",
    "    def __init__(self, root):\n",
    "        self.root = root\n",
    "    \n",
    "    def predict(self, values):\n",
    "        node = self.root\n",
    "        while not node.is_leaf():\n",
    "            if values[node.column] <= node.value:\n",
    "                #print(\"go left\")\n",
    "                node = node.left\n",
    "            else:\n",
    "                #print(\"go right\")\n",
    "                node = node.right\n",
    "        return node.value\n",
    "\n",
    "def build_decision_tree(df):\n",
    "    def build_node(df):\n",
    "        column, gini, value = find_best_gini(df)\n",
    "        #display(df.head())\n",
    "        node = Node(column, gini, value, len(df))\n",
    "        display(node)\n",
    "        return node\n",
    "    \n",
    "    def build_node_recursively(parent, df, depth):\n",
    "        print(\"depth\", depth, parent, df.columns)\n",
    "        if len(df) == 0:\n",
    "            print(\"fail\")\n",
    "            return\n",
    "        values = df[df.columns[-1]].unique()\n",
    "        #print(values)\n",
    "        if len(values) == 1:\n",
    "            print(\"leaf\", values[0])\n",
    "            parent.value = values[0]\n",
    "            return\n",
    "        \n",
    "        left_df = df[df[parent.column] <= parent.value]\n",
    "        parent.left = build_node(left_df)\n",
    "        print(\"build left\")\n",
    "        build_node_recursively(parent.left, left_df, depth + 1)\n",
    "        \n",
    "        right_df = df[df[parent.column] > parent.value]\n",
    "        parent.right = build_node(right_df)\n",
    "        print(\"build right\")\n",
    "        build_node_recursively(parent.right, right_df, depth + 1)\n",
    "        \n",
    "    root = build_node(df)\n",
    "    build_node_recursively(root, df, 0)\n",
    "    \n",
    "    return DecisionTree(root)"
   ]
  },
  {
   "cell_type": "code",
   "execution_count": 29,
   "metadata": {},
   "outputs": [],
   "source": [
    "def print_tree(current_node, indent='', last='updown'):\n",
    "    def name(node):\n",
    "        if current_node.is_leaf():\n",
    "            return \"class={}, s={}\".format(node.value, node.samples)\n",
    "        else:\n",
    "            return \"{}, v={}, s={}\".format(node.column, node.value, node.samples)\n",
    "\n",
    "    children = lambda node: [] if node.is_leaf() else [node.left, node.right]\n",
    "    nb_children = lambda node: sum(nb_children(child) for child in children(node)) + 1\n",
    "    size_branch = {child: nb_children(child) for child in children(current_node)}\n",
    "\n",
    "    \"\"\" Creation of balanced lists for \"up\" branch and \"down\" branch. \"\"\"\n",
    "    up = sorted(children(current_node), key=lambda node: nb_children(node))\n",
    "    down = []\n",
    "    while up and sum(size_branch[node] for node in down) < sum(size_branch[node] for node in up):\n",
    "        down.append(up.pop())\n",
    "\n",
    "    \"\"\" Printing of \"up\" branch. \"\"\"\n",
    "    for child in up:\n",
    "        next_last = 'up' if up.index(child) is 0 else ''\n",
    "        next_indent = '{0}{1}{2}'.format(indent, ' ' if 'up' in last else '│', ' ' * len(name(current_node)))\n",
    "        print_tree(child, next_indent, next_last)\n",
    "\n",
    "    \"\"\" Printing of current node. \"\"\"\n",
    "    if last == 'up': start_shape = '┌'\n",
    "    elif last == 'down': start_shape = '└'\n",
    "    elif last == 'updown': start_shape = ' '\n",
    "    else: start_shape = '├'\n",
    "\n",
    "    if up: end_shape = '┤'\n",
    "    elif down: end_shape = '┐'\n",
    "    else: end_shape = ''\n",
    "\n",
    "    print('{0}{1}{2}{3}'.format(indent, start_shape, name(current_node), end_shape))\n",
    "\n",
    "    \"\"\" Printing of \"down\" branch. \"\"\"\n",
    "    for child in down:\n",
    "        next_last = 'down' if down.index(child) is len(down) - 1 else ''\n",
    "        next_indent = '{0}{1}{2}'.format(indent, ' ' if 'down' in last else '│', ' ' * len(name(current_node)))\n",
    "        print_tree(child, next_indent, next_last)"
   ]
  },
  {
   "cell_type": "code",
   "execution_count": 28,
   "metadata": {},
   "outputs": [],
   "source": [
    "def print_tree_simple(node, depth=0):\n",
    "    if node == None:\n",
    "        return\n",
    "    \n",
    "    type = \"class\" if node.is_leaf() else \"value\"\n",
    "    print(\"{}column={}, {}={}\".format(' ' * depth * 5, node.column, type, node.value))\n",
    "    print_tree_simple(node.left, depth + 1)\n",
    "    print_tree_simple(node.right, depth + 1)"
   ]
  },
  {
   "cell_type": "code",
   "execution_count": 45,
   "metadata": {},
   "outputs": [],
   "source": [
    "def do_all(df):\n",
    "    print(df.name)\n",
    "    tree = build_decision_tree(df)\n",
    "    \n",
    "    correct = 0\n",
    "    for i in range(len(df)):\n",
    "        label = df.iloc[i, -1]\n",
    "        predicted = tree.predict(df.iloc[i])\n",
    "        if label == predicted:\n",
    "            correct += 1\n",
    "    print(\"Correct={}/{}\".format(correct, len(df)))\n",
    "    \n",
    "    print_tree(tree.root)\n",
    "    print_tree_simple(tree.root)"
   ]
  },
  {
   "cell_type": "code",
   "execution_count": 46,
   "metadata": {},
   "outputs": [
    {
     "name": "stdout",
     "output_type": "stream",
     "text": [
      "iris\n"
     ]
    },
    {
     "data": {
      "text/plain": [
       "column=petal length, gini=0.3333333333333333, value=2.45, samples=150"
      ]
     },
     "metadata": {},
     "output_type": "display_data"
    },
    {
     "name": "stdout",
     "output_type": "stream",
     "text": [
      "depth 0 column=petal length, gini=0.3333333333333333, value=2.45, samples=150 Index(['sepal length', 'sepal width', 'petal length', 'petal width', 'class'], dtype='object')\n"
     ]
    },
    {
     "data": {
      "text/plain": [
       "column=sepal length, gini=0.0, value=4.35, samples=50"
      ]
     },
     "metadata": {},
     "output_type": "display_data"
    },
    {
     "name": "stdout",
     "output_type": "stream",
     "text": [
      "build left\n",
      "depth 1 column=sepal length, gini=0.0, value=4.35, samples=50 Index(['sepal length', 'sepal width', 'petal length', 'petal width', 'class'], dtype='object')\n",
      "leaf 0\n"
     ]
    },
    {
     "data": {
      "text/plain": [
       "column=petal width, gini=0.11030595813204513, value=1.75, samples=100"
      ]
     },
     "metadata": {},
     "output_type": "display_data"
    },
    {
     "name": "stdout",
     "output_type": "stream",
     "text": [
      "build right\n",
      "depth 1 column=petal width, gini=0.11030595813204513, value=1.75, samples=100 Index(['sepal length', 'sepal width', 'petal length', 'petal width', 'class'], dtype='object')\n"
     ]
    },
    {
     "data": {
      "text/plain": [
       "column=petal length, gini=0.0856481481481482, value=4.95, samples=54"
      ]
     },
     "metadata": {},
     "output_type": "display_data"
    },
    {
     "name": "stdout",
     "output_type": "stream",
     "text": [
      "build left\n",
      "depth 2 column=petal length, gini=0.0856481481481482, value=4.95, samples=54 Index(['sepal length', 'sepal width', 'petal length', 'petal width', 'class'], dtype='object')\n"
     ]
    },
    {
     "data": {
      "text/plain": [
       "column=petal width, gini=0.0, value=1.65, samples=48"
      ]
     },
     "metadata": {},
     "output_type": "display_data"
    },
    {
     "name": "stdout",
     "output_type": "stream",
     "text": [
      "build left\n",
      "depth 3 column=petal width, gini=0.0, value=1.65, samples=48 Index(['sepal length', 'sepal width', 'petal length', 'petal width', 'class'], dtype='object')\n"
     ]
    },
    {
     "data": {
      "text/plain": [
       "column=sepal length, gini=0.0, value=4.95, samples=47"
      ]
     },
     "metadata": {},
     "output_type": "display_data"
    },
    {
     "name": "stdout",
     "output_type": "stream",
     "text": [
      "build left\n",
      "depth 4 column=sepal length, gini=0.0, value=4.95, samples=47 Index(['sepal length', 'sepal width', 'petal length', 'petal width', 'class'], dtype='object')\n",
      "leaf 1\n"
     ]
    },
    {
     "data": {
      "text/plain": [
       "column=-1, gini=100, value=None, samples=1"
      ]
     },
     "metadata": {},
     "output_type": "display_data"
    },
    {
     "name": "stdout",
     "output_type": "stream",
     "text": [
      "build right\n",
      "depth 4 column=-1, gini=100, value=None, samples=1 Index(['sepal length', 'sepal width', 'petal length', 'petal width', 'class'], dtype='object')\n",
      "leaf 2\n"
     ]
    },
    {
     "data": {
      "text/plain": [
       "column=petal width, gini=0.2222222222222222, value=1.55, samples=6"
      ]
     },
     "metadata": {},
     "output_type": "display_data"
    },
    {
     "name": "stdout",
     "output_type": "stream",
     "text": [
      "build right\n",
      "depth 3 column=petal width, gini=0.2222222222222222, value=1.55, samples=6 Index(['sepal length', 'sepal width', 'petal length', 'petal width', 'class'], dtype='object')\n"
     ]
    },
    {
     "data": {
      "text/plain": [
       "column=sepal length, gini=0.0, value=6.05, samples=3"
      ]
     },
     "metadata": {},
     "output_type": "display_data"
    },
    {
     "name": "stdout",
     "output_type": "stream",
     "text": [
      "build left\n",
      "depth 4 column=sepal length, gini=0.0, value=6.05, samples=3 Index(['sepal length', 'sepal width', 'petal length', 'petal width', 'class'], dtype='object')\n",
      "leaf 2\n"
     ]
    },
    {
     "data": {
      "text/plain": [
       "column=sepal length, gini=0.0, value=6.95, samples=3"
      ]
     },
     "metadata": {},
     "output_type": "display_data"
    },
    {
     "name": "stdout",
     "output_type": "stream",
     "text": [
      "build right\n",
      "depth 4 column=sepal length, gini=0.0, value=6.95, samples=3 Index(['sepal length', 'sepal width', 'petal length', 'petal width', 'class'], dtype='object')\n"
     ]
    },
    {
     "data": {
      "text/plain": [
       "column=sepal length, gini=0.0, value=6.35, samples=2"
      ]
     },
     "metadata": {},
     "output_type": "display_data"
    },
    {
     "name": "stdout",
     "output_type": "stream",
     "text": [
      "build left\n",
      "depth 5 column=sepal length, gini=0.0, value=6.35, samples=2 Index(['sepal length', 'sepal width', 'petal length', 'petal width', 'class'], dtype='object')\n",
      "leaf 1\n"
     ]
    },
    {
     "data": {
      "text/plain": [
       "column=-1, gini=100, value=None, samples=1"
      ]
     },
     "metadata": {},
     "output_type": "display_data"
    },
    {
     "name": "stdout",
     "output_type": "stream",
     "text": [
      "build right\n",
      "depth 5 column=-1, gini=100, value=None, samples=1 Index(['sepal length', 'sepal width', 'petal length', 'petal width', 'class'], dtype='object')\n",
      "leaf 2\n"
     ]
    },
    {
     "data": {
      "text/plain": [
       "column=petal length, gini=0.02898550724637681, value=4.85, samples=46"
      ]
     },
     "metadata": {},
     "output_type": "display_data"
    },
    {
     "name": "stdout",
     "output_type": "stream",
     "text": [
      "build right\n",
      "depth 2 column=petal length, gini=0.02898550724637681, value=4.85, samples=46 Index(['sepal length', 'sepal width', 'petal length', 'petal width', 'class'], dtype='object')\n"
     ]
    },
    {
     "data": {
      "text/plain": [
       "column=sepal length, gini=0.0, value=5.95, samples=3"
      ]
     },
     "metadata": {},
     "output_type": "display_data"
    },
    {
     "name": "stdout",
     "output_type": "stream",
     "text": [
      "build left\n",
      "depth 3 column=sepal length, gini=0.0, value=5.95, samples=3 Index(['sepal length', 'sepal width', 'petal length', 'petal width', 'class'], dtype='object')\n"
     ]
    },
    {
     "data": {
      "text/plain": [
       "column=-1, gini=100, value=None, samples=1"
      ]
     },
     "metadata": {},
     "output_type": "display_data"
    },
    {
     "name": "stdout",
     "output_type": "stream",
     "text": [
      "build left\n",
      "depth 4 column=-1, gini=100, value=None, samples=1 Index(['sepal length', 'sepal width', 'petal length', 'petal width', 'class'], dtype='object')\n",
      "leaf 1\n"
     ]
    },
    {
     "data": {
      "text/plain": [
       "column=sepal length, gini=0.0, value=6.1, samples=2"
      ]
     },
     "metadata": {},
     "output_type": "display_data"
    },
    {
     "name": "stdout",
     "output_type": "stream",
     "text": [
      "build right\n",
      "depth 4 column=sepal length, gini=0.0, value=6.1, samples=2 Index(['sepal length', 'sepal width', 'petal length', 'petal width', 'class'], dtype='object')\n",
      "leaf 2\n"
     ]
    },
    {
     "data": {
      "text/plain": [
       "column=sepal length, gini=0.0, value=5.65, samples=43"
      ]
     },
     "metadata": {},
     "output_type": "display_data"
    },
    {
     "name": "stdout",
     "output_type": "stream",
     "text": [
      "build right\n",
      "depth 3 column=sepal length, gini=0.0, value=5.65, samples=43 Index(['sepal length', 'sepal width', 'petal length', 'petal width', 'class'], dtype='object')\n",
      "leaf 2\n",
      "Correct=150/150\n",
      "                            ┌class=0, s=50\n",
      " petal length, v=2.45, s=150┤\n",
      "                            │                                                     ┌class=2, s=43\n",
      "                            │                          ┌petal length, v=4.85, s=46┤\n",
      "                            │                          │                          │                         ┌class=1, s=1\n",
      "                            │                          │                          └sepal length, v=5.95, s=3┤\n",
      "                            │                          │                                                    └class=2, s=2\n",
      "                            └petal width, v=1.75, s=100┤\n",
      "                                                       │                                                    ┌class=1, s=47\n",
      "                                                       │                          ┌petal width, v=1.65, s=48┤\n",
      "                                                       │                          │                         └class=2, s=1\n",
      "                                                       └petal length, v=4.95, s=54┤\n",
      "                                                                                  │                        ┌class=2, s=3\n",
      "                                                                                  └petal width, v=1.55, s=6┤\n",
      "                                                                                                           │                         ┌class=1, s=2\n",
      "                                                                                                           └sepal length, v=6.95, s=3┤\n",
      "                                                                                                                                     └class=2, s=1\n",
      "column=petal length, value=2.45\n",
      "     column=sepal length, class=0\n",
      "     column=petal width, value=1.75\n",
      "          column=petal length, value=4.95\n",
      "               column=petal width, value=1.65\n",
      "                    column=sepal length, class=1\n",
      "                    column=-1, class=2\n",
      "               column=petal width, value=1.55\n",
      "                    column=sepal length, class=2\n",
      "                    column=sepal length, value=6.95\n",
      "                         column=sepal length, class=1\n",
      "                         column=-1, class=2\n",
      "          column=petal length, value=4.85\n",
      "               column=sepal length, value=5.95\n",
      "                    column=-1, class=1\n",
      "                    column=sepal length, class=2\n",
      "               column=sepal length, class=2\n"
     ]
    }
   ],
   "source": [
    "do_all(iris)"
   ]
  },
  {
   "cell_type": "code",
   "execution_count": null,
   "metadata": {},
   "outputs": [],
   "source": [
    "do_all(tictactoe) # no number values"
   ]
  },
  {
   "cell_type": "code",
   "execution_count": 47,
   "metadata": {},
   "outputs": [
    {
     "name": "stdout",
     "output_type": "stream",
     "text": [
      "separable 2d\n"
     ]
    },
    {
     "data": {
      "text/plain": [
       "column=1, gini=0.038461538461538484, value=2.6500000000000004, samples=100"
      ]
     },
     "metadata": {},
     "output_type": "display_data"
    },
    {
     "name": "stdout",
     "output_type": "stream",
     "text": [
      "depth 0 column=1, gini=0.038461538461538484, value=2.6500000000000004, samples=100 Int64Index([0, 1, 2], dtype='int64')\n"
     ]
    },
    {
     "data": {
      "text/plain": [
       "column=0, gini=0.0, value=0.275, samples=48"
      ]
     },
     "metadata": {},
     "output_type": "display_data"
    },
    {
     "name": "stdout",
     "output_type": "stream",
     "text": [
      "build left\n",
      "depth 1 column=0, gini=0.0, value=0.275, samples=48 Int64Index([0, 1, 2], dtype='int64')\n",
      "leaf 1\n"
     ]
    },
    {
     "data": {
      "text/plain": [
       "column=1, gini=0.038461538461538464, value=3.175, samples=52"
      ]
     },
     "metadata": {},
     "output_type": "display_data"
    },
    {
     "name": "stdout",
     "output_type": "stream",
     "text": [
      "build right\n",
      "depth 1 column=1, gini=0.038461538461538464, value=3.175, samples=52 Int64Index([0, 1, 2], dtype='int64')\n"
     ]
    },
    {
     "data": {
      "text/plain": [
       "column=0, gini=0.0, value=2.1, samples=4"
      ]
     },
     "metadata": {},
     "output_type": "display_data"
    },
    {
     "name": "stdout",
     "output_type": "stream",
     "text": [
      "build left\n",
      "depth 2 column=0, gini=0.0, value=2.1, samples=4 Int64Index([0, 1, 2], dtype='int64')\n"
     ]
    },
    {
     "data": {
      "text/plain": [
       "column=0, gini=0.0, value=0.45, samples=2"
      ]
     },
     "metadata": {},
     "output_type": "display_data"
    },
    {
     "name": "stdout",
     "output_type": "stream",
     "text": [
      "build left\n",
      "depth 3 column=0, gini=0.0, value=0.45, samples=2 Int64Index([0, 1, 2], dtype='int64')\n",
      "leaf -1\n"
     ]
    },
    {
     "data": {
      "text/plain": [
       "column=-1, gini=100, value=None, samples=2"
      ]
     },
     "metadata": {},
     "output_type": "display_data"
    },
    {
     "name": "stdout",
     "output_type": "stream",
     "text": [
      "build right\n",
      "depth 3 column=-1, gini=100, value=None, samples=2 Int64Index([0, 1, 2], dtype='int64')\n",
      "leaf 1\n"
     ]
    },
    {
     "data": {
      "text/plain": [
       "column=0, gini=0.0, value=0.275, samples=48"
      ]
     },
     "metadata": {},
     "output_type": "display_data"
    },
    {
     "name": "stdout",
     "output_type": "stream",
     "text": [
      "build right\n",
      "depth 2 column=0, gini=0.0, value=0.275, samples=48 Int64Index([0, 1, 2], dtype='int64')\n",
      "leaf -1\n",
      "Correct=100/100\n",
      "                               ┌class=1, s=48\n",
      " 1, v=2.6500000000000004, s=100┤\n",
      "                               │                ┌class=-1, s=48\n",
      "                               └1, v=3.175, s=52┤\n",
      "                                                │             ┌class=-1, s=2\n",
      "                                                └0, v=2.1, s=4┤\n",
      "                                                              └class=1, s=2\n",
      "column=1, value=2.6500000000000004\n",
      "     column=0, class=1\n",
      "     column=1, value=3.175\n",
      "          column=0, value=2.1\n",
      "               column=0, class=-1\n",
      "               column=-1, class=1\n",
      "          column=0, class=-1\n"
     ]
    }
   ],
   "source": [
    "do_all(sep)"
   ]
  },
  {
   "cell_type": "code",
   "execution_count": 48,
   "metadata": {},
   "outputs": [
    {
     "name": "stdout",
     "output_type": "stream",
     "text": [
      "non separable 2d\n"
     ]
    },
    {
     "data": {
      "text/plain": [
       "column=1, gini=0.25193798449612403, value=2.625, samples=140"
      ]
     },
     "metadata": {},
     "output_type": "display_data"
    },
    {
     "name": "stdout",
     "output_type": "stream",
     "text": [
      "depth 0 column=1, gini=0.25193798449612403, value=2.625, samples=140 Int64Index([0, 1, 2], dtype='int64')\n"
     ]
    },
    {
     "data": {
      "text/plain": [
       "column=0, gini=0.0808080808080808, value=0.8, samples=54"
      ]
     },
     "metadata": {},
     "output_type": "display_data"
    },
    {
     "name": "stdout",
     "output_type": "stream",
     "text": [
      "build left\n",
      "depth 1 column=0, gini=0.0808080808080808, value=0.8, samples=54 Int64Index([0, 1, 2], dtype='int64')\n"
     ]
    },
    {
     "data": {
      "text/plain": [
       "column=1, gini=0.13636363636363635, value=1.6, samples=11"
      ]
     },
     "metadata": {},
     "output_type": "display_data"
    },
    {
     "name": "stdout",
     "output_type": "stream",
     "text": [
      "build left\n",
      "depth 2 column=1, gini=0.13636363636363635, value=1.6, samples=11 Int64Index([0, 1, 2], dtype='int64')\n"
     ]
    },
    {
     "data": {
      "text/plain": [
       "column=0, gini=0.0, value=0.275, samples=7"
      ]
     },
     "metadata": {},
     "output_type": "display_data"
    },
    {
     "name": "stdout",
     "output_type": "stream",
     "text": [
      "build left\n",
      "depth 3 column=0, gini=0.0, value=0.275, samples=7 Int64Index([0, 1, 2], dtype='int64')\n",
      "leaf 1\n"
     ]
    },
    {
     "data": {
      "text/plain": [
       "column=0, gini=0.0, value=0.475, samples=4"
      ]
     },
     "metadata": {},
     "output_type": "display_data"
    },
    {
     "name": "stdout",
     "output_type": "stream",
     "text": [
      "build right\n",
      "depth 3 column=0, gini=0.0, value=0.475, samples=4 Int64Index([0, 1, 2], dtype='int64')\n"
     ]
    },
    {
     "data": {
      "text/plain": [
       "column=-1, gini=100, value=None, samples=1"
      ]
     },
     "metadata": {},
     "output_type": "display_data"
    },
    {
     "name": "stdout",
     "output_type": "stream",
     "text": [
      "build left\n",
      "depth 4 column=-1, gini=100, value=None, samples=1 Int64Index([0, 1, 2], dtype='int64')\n",
      "leaf 1\n"
     ]
    },
    {
     "data": {
      "text/plain": [
       "column=0, gini=0.0, value=0.525, samples=3"
      ]
     },
     "metadata": {},
     "output_type": "display_data"
    },
    {
     "name": "stdout",
     "output_type": "stream",
     "text": [
      "build right\n",
      "depth 4 column=0, gini=0.0, value=0.525, samples=3 Int64Index([0, 1, 2], dtype='int64')\n",
      "leaf -1\n"
     ]
    },
    {
     "data": {
      "text/plain": [
       "column=0, gini=0.0, value=1.0, samples=43"
      ]
     },
     "metadata": {},
     "output_type": "display_data"
    },
    {
     "name": "stdout",
     "output_type": "stream",
     "text": [
      "build right\n",
      "depth 2 column=0, gini=0.0, value=1.0, samples=43 Int64Index([0, 1, 2], dtype='int64')\n",
      "leaf 1\n"
     ]
    },
    {
     "data": {
      "text/plain": [
       "column=0, gini=0.2675497024829037, value=2.325, samples=86"
      ]
     },
     "metadata": {},
     "output_type": "display_data"
    },
    {
     "name": "stdout",
     "output_type": "stream",
     "text": [
      "build right\n",
      "depth 1 column=0, gini=0.2675497024829037, value=2.325, samples=86 Int64Index([0, 1, 2], dtype='int64')\n"
     ]
    },
    {
     "data": {
      "text/plain": [
       "column=1, gini=0.0680851063829787, value=2.975, samples=47"
      ]
     },
     "metadata": {},
     "output_type": "display_data"
    },
    {
     "name": "stdout",
     "output_type": "stream",
     "text": [
      "build left\n",
      "depth 2 column=1, gini=0.0680851063829787, value=2.975, samples=47 Int64Index([0, 1, 2], dtype='int64')\n"
     ]
    },
    {
     "data": {
      "text/plain": [
       "column=1, gini=0.2, value=2.875, samples=10"
      ]
     },
     "metadata": {},
     "output_type": "display_data"
    },
    {
     "name": "stdout",
     "output_type": "stream",
     "text": [
      "build left\n",
      "depth 3 column=1, gini=0.2, value=2.875, samples=10 Int64Index([0, 1, 2], dtype='int64')\n"
     ]
    },
    {
     "data": {
      "text/plain": [
       "column=0, gini=0.0, value=0.425, samples=6"
      ]
     },
     "metadata": {},
     "output_type": "display_data"
    },
    {
     "name": "stdout",
     "output_type": "stream",
     "text": [
      "build left\n",
      "depth 4 column=0, gini=0.0, value=0.425, samples=6 Int64Index([0, 1, 2], dtype='int64')\n",
      "leaf -1\n"
     ]
    },
    {
     "data": {
      "text/plain": [
       "column=0, gini=0.3333333333333333, value=1.2, samples=4"
      ]
     },
     "metadata": {},
     "output_type": "display_data"
    },
    {
     "name": "stdout",
     "output_type": "stream",
     "text": [
      "build right\n",
      "depth 4 column=0, gini=0.3333333333333333, value=1.2, samples=4 Int64Index([0, 1, 2], dtype='int64')\n"
     ]
    },
    {
     "data": {
      "text/plain": [
       "column=-1, gini=100, value=None, samples=1"
      ]
     },
     "metadata": {},
     "output_type": "display_data"
    },
    {
     "name": "stdout",
     "output_type": "stream",
     "text": [
      "build left\n",
      "depth 5 column=-1, gini=100, value=None, samples=1 Int64Index([0, 1, 2], dtype='int64')\n",
      "leaf 1\n"
     ]
    },
    {
     "data": {
      "text/plain": [
       "column=0, gini=0.0, value=1.675, samples=3"
      ]
     },
     "metadata": {},
     "output_type": "display_data"
    },
    {
     "name": "stdout",
     "output_type": "stream",
     "text": [
      "build right\n",
      "depth 5 column=0, gini=0.0, value=1.675, samples=3 Int64Index([0, 1, 2], dtype='int64')\n"
     ]
    },
    {
     "data": {
      "text/plain": [
       "column=0, gini=0.0, value=1.45, samples=2"
      ]
     },
     "metadata": {},
     "output_type": "display_data"
    },
    {
     "name": "stdout",
     "output_type": "stream",
     "text": [
      "build left\n",
      "depth 6 column=0, gini=0.0, value=1.45, samples=2 Int64Index([0, 1, 2], dtype='int64')\n",
      "leaf -1\n"
     ]
    },
    {
     "data": {
      "text/plain": [
       "column=-1, gini=100, value=None, samples=1"
      ]
     },
     "metadata": {},
     "output_type": "display_data"
    },
    {
     "name": "stdout",
     "output_type": "stream",
     "text": [
      "build right\n",
      "depth 6 column=-1, gini=100, value=None, samples=1 Int64Index([0, 1, 2], dtype='int64')\n",
      "leaf 1\n"
     ]
    },
    {
     "data": {
      "text/plain": [
       "column=0, gini=0.0, value=0.275, samples=37"
      ]
     },
     "metadata": {},
     "output_type": "display_data"
    },
    {
     "name": "stdout",
     "output_type": "stream",
     "text": [
      "build right\n",
      "depth 3 column=0, gini=0.0, value=0.275, samples=37 Int64Index([0, 1, 2], dtype='int64')\n",
      "leaf -1\n"
     ]
    },
    {
     "data": {
      "text/plain": [
       "column=1, gini=0.3228869895536562, value=4.25, samples=39"
      ]
     },
     "metadata": {},
     "output_type": "display_data"
    },
    {
     "name": "stdout",
     "output_type": "stream",
     "text": [
      "build right\n",
      "depth 2 column=1, gini=0.3228869895536562, value=4.25, samples=39 Int64Index([0, 1, 2], dtype='int64')\n"
     ]
    },
    {
     "data": {
      "text/plain": [
       "column=0, gini=0.40404040404040414, value=4.175, samples=27"
      ]
     },
     "metadata": {},
     "output_type": "display_data"
    },
    {
     "name": "stdout",
     "output_type": "stream",
     "text": [
      "build left\n",
      "depth 3 column=0, gini=0.40404040404040414, value=4.175, samples=27 Int64Index([0, 1, 2], dtype='int64')\n"
     ]
    },
    {
     "data": {
      "text/plain": [
       "column=1, gini=0.4480519480519481, value=3.525, samples=22"
      ]
     },
     "metadata": {},
     "output_type": "display_data"
    },
    {
     "name": "stdout",
     "output_type": "stream",
     "text": [
      "build left\n",
      "depth 4 column=1, gini=0.4480519480519481, value=3.525, samples=22 Int64Index([0, 1, 2], dtype='int64')\n"
     ]
    },
    {
     "data": {
      "text/plain": [
       "column=0, gini=0.21428571428571433, value=3.55, samples=8"
      ]
     },
     "metadata": {},
     "output_type": "display_data"
    },
    {
     "name": "stdout",
     "output_type": "stream",
     "text": [
      "build left\n",
      "depth 5 column=0, gini=0.21428571428571433, value=3.55, samples=8 Int64Index([0, 1, 2], dtype='int64')\n"
     ]
    },
    {
     "data": {
      "text/plain": [
       "column=1, gini=0.19047619047619047, value=3.0999999999999996, samples=7"
      ]
     },
     "metadata": {},
     "output_type": "display_data"
    },
    {
     "name": "stdout",
     "output_type": "stream",
     "text": [
      "build left\n",
      "depth 6 column=1, gini=0.19047619047619047, value=3.0999999999999996, samples=7 Int64Index([0, 1, 2], dtype='int64')\n"
     ]
    },
    {
     "data": {
      "text/plain": [
       "column=0, gini=0.0, value=2.7249999999999996, samples=3"
      ]
     },
     "metadata": {},
     "output_type": "display_data"
    },
    {
     "name": "stdout",
     "output_type": "stream",
     "text": [
      "build left\n",
      "depth 7 column=0, gini=0.0, value=2.7249999999999996, samples=3 Int64Index([0, 1, 2], dtype='int64')\n"
     ]
    },
    {
     "data": {
      "text/plain": [
       "column=0, gini=0.0, value=2.375, samples=2"
      ]
     },
     "metadata": {},
     "output_type": "display_data"
    },
    {
     "name": "stdout",
     "output_type": "stream",
     "text": [
      "build left\n",
      "depth 8 column=0, gini=0.0, value=2.375, samples=2 Int64Index([0, 1, 2], dtype='int64')\n",
      "leaf 1\n"
     ]
    },
    {
     "data": {
      "text/plain": [
       "column=-1, gini=100, value=None, samples=1"
      ]
     },
     "metadata": {},
     "output_type": "display_data"
    },
    {
     "name": "stdout",
     "output_type": "stream",
     "text": [
      "build right\n",
      "depth 8 column=-1, gini=100, value=None, samples=1 Int64Index([0, 1, 2], dtype='int64')\n",
      "leaf -1\n"
     ]
    },
    {
     "data": {
      "text/plain": [
       "column=0, gini=0.0, value=3.0, samples=4"
      ]
     },
     "metadata": {},
     "output_type": "display_data"
    },
    {
     "name": "stdout",
     "output_type": "stream",
     "text": [
      "build right\n",
      "depth 7 column=0, gini=0.0, value=3.0, samples=4 Int64Index([0, 1, 2], dtype='int64')\n",
      "leaf 1\n"
     ]
    },
    {
     "data": {
      "text/plain": [
       "column=-1, gini=100, value=None, samples=1"
      ]
     },
     "metadata": {},
     "output_type": "display_data"
    },
    {
     "name": "stdout",
     "output_type": "stream",
     "text": [
      "build right\n",
      "depth 6 column=-1, gini=100, value=None, samples=1 Int64Index([0, 1, 2], dtype='int64')\n",
      "leaf -1\n"
     ]
    },
    {
     "data": {
      "text/plain": [
       "column=0, gini=0.45714285714285713, value=3.5, samples=14"
      ]
     },
     "metadata": {},
     "output_type": "display_data"
    },
    {
     "name": "stdout",
     "output_type": "stream",
     "text": [
      "build right\n",
      "depth 5 column=0, gini=0.45714285714285713, value=3.5, samples=14 Int64Index([0, 1, 2], dtype='int64')\n"
     ]
    },
    {
     "data": {
      "text/plain": [
       "column=1, gini=0.3333333333333333, value=3.6500000000000004, samples=9"
      ]
     },
     "metadata": {},
     "output_type": "display_data"
    },
    {
     "name": "stdout",
     "output_type": "stream",
     "text": [
      "build left\n",
      "depth 6 column=1, gini=0.3333333333333333, value=3.6500000000000004, samples=9 Int64Index([0, 1, 2], dtype='int64')\n"
     ]
    },
    {
     "data": {
      "text/plain": [
       "column=-1, gini=100, value=None, samples=1"
      ]
     },
     "metadata": {},
     "output_type": "display_data"
    },
    {
     "name": "stdout",
     "output_type": "stream",
     "text": [
      "build left\n",
      "depth 7 column=-1, gini=100, value=None, samples=1 Int64Index([0, 1, 2], dtype='int64')\n",
      "leaf 1\n"
     ]
    },
    {
     "data": {
      "text/plain": [
       "column=0, gini=0.3, value=3.175, samples=8"
      ]
     },
     "metadata": {},
     "output_type": "display_data"
    },
    {
     "name": "stdout",
     "output_type": "stream",
     "text": [
      "build right\n",
      "depth 7 column=0, gini=0.3, value=3.175, samples=8 Int64Index([0, 1, 2], dtype='int64')\n"
     ]
    },
    {
     "data": {
      "text/plain": [
       "column=0, gini=0.30000000000000004, value=3.05, samples=5"
      ]
     },
     "metadata": {},
     "output_type": "display_data"
    },
    {
     "name": "stdout",
     "output_type": "stream",
     "text": [
      "build left\n",
      "depth 8 column=0, gini=0.30000000000000004, value=3.05, samples=5 Int64Index([0, 1, 2], dtype='int64')\n"
     ]
    },
    {
     "data": {
      "text/plain": [
       "column=0, gini=0.25, value=2.875, samples=4"
      ]
     },
     "metadata": {},
     "output_type": "display_data"
    },
    {
     "name": "stdout",
     "output_type": "stream",
     "text": [
      "build left\n",
      "depth 9 column=0, gini=0.25, value=2.875, samples=4 Int64Index([0, 1, 2], dtype='int64')\n"
     ]
    },
    {
     "data": {
      "text/plain": [
       "column=0, gini=0.0, value=2.65, samples=2"
      ]
     },
     "metadata": {},
     "output_type": "display_data"
    },
    {
     "name": "stdout",
     "output_type": "stream",
     "text": [
      "build left\n",
      "depth 10 column=0, gini=0.0, value=2.65, samples=2 Int64Index([0, 1, 2], dtype='int64')\n"
     ]
    },
    {
     "data": {
      "text/plain": [
       "column=-1, gini=100, value=None, samples=1"
      ]
     },
     "metadata": {},
     "output_type": "display_data"
    },
    {
     "name": "stdout",
     "output_type": "stream",
     "text": [
      "build left\n",
      "depth 11 column=-1, gini=100, value=None, samples=1 Int64Index([0, 1, 2], dtype='int64')\n",
      "leaf -1\n"
     ]
    },
    {
     "data": {
      "text/plain": [
       "column=-1, gini=100, value=None, samples=1"
      ]
     },
     "metadata": {},
     "output_type": "display_data"
    },
    {
     "name": "stdout",
     "output_type": "stream",
     "text": [
      "build right\n",
      "depth 11 column=-1, gini=100, value=None, samples=1 Int64Index([0, 1, 2], dtype='int64')\n",
      "leaf 1\n"
     ]
    },
    {
     "data": {
      "text/plain": [
       "column=1, gini=0.0, value=3.775, samples=2"
      ]
     },
     "metadata": {},
     "output_type": "display_data"
    },
    {
     "name": "stdout",
     "output_type": "stream",
     "text": [
      "build right\n",
      "depth 10 column=1, gini=0.0, value=3.775, samples=2 Int64Index([0, 1, 2], dtype='int64')\n",
      "leaf -1\n"
     ]
    },
    {
     "data": {
      "text/plain": [
       "column=-1, gini=100, value=None, samples=1"
      ]
     },
     "metadata": {},
     "output_type": "display_data"
    },
    {
     "name": "stdout",
     "output_type": "stream",
     "text": [
      "build right\n",
      "depth 9 column=-1, gini=100, value=None, samples=1 Int64Index([0, 1, 2], dtype='int64')\n",
      "leaf 1\n"
     ]
    },
    {
     "data": {
      "text/plain": [
       "column=0, gini=0.0, value=3.3, samples=3"
      ]
     },
     "metadata": {},
     "output_type": "display_data"
    },
    {
     "name": "stdout",
     "output_type": "stream",
     "text": [
      "build right\n",
      "depth 8 column=0, gini=0.0, value=3.3, samples=3 Int64Index([0, 1, 2], dtype='int64')\n",
      "leaf -1\n"
     ]
    },
    {
     "data": {
      "text/plain": [
       "column=0, gini=0.30000000000000004, value=4.0, samples=5"
      ]
     },
     "metadata": {},
     "output_type": "display_data"
    },
    {
     "name": "stdout",
     "output_type": "stream",
     "text": [
      "build right\n",
      "depth 6 column=0, gini=0.30000000000000004, value=4.0, samples=5 Int64Index([0, 1, 2], dtype='int64')\n"
     ]
    },
    {
     "data": {
      "text/plain": [
       "column=0, gini=0.25, value=3.7, samples=4"
      ]
     },
     "metadata": {},
     "output_type": "display_data"
    },
    {
     "name": "stdout",
     "output_type": "stream",
     "text": [
      "build left\n",
      "depth 7 column=0, gini=0.25, value=3.7, samples=4 Int64Index([0, 1, 2], dtype='int64')\n"
     ]
    },
    {
     "data": {
      "text/plain": [
       "column=1, gini=0.0, value=4.125, samples=2"
      ]
     },
     "metadata": {},
     "output_type": "display_data"
    },
    {
     "name": "stdout",
     "output_type": "stream",
     "text": [
      "build left\n",
      "depth 8 column=1, gini=0.0, value=4.125, samples=2 Int64Index([0, 1, 2], dtype='int64')\n"
     ]
    },
    {
     "data": {
      "text/plain": [
       "column=-1, gini=100, value=None, samples=1"
      ]
     },
     "metadata": {},
     "output_type": "display_data"
    },
    {
     "name": "stdout",
     "output_type": "stream",
     "text": [
      "build left\n",
      "depth 9 column=-1, gini=100, value=None, samples=1 Int64Index([0, 1, 2], dtype='int64')\n",
      "leaf -1\n"
     ]
    },
    {
     "data": {
      "text/plain": [
       "column=-1, gini=100, value=None, samples=1"
      ]
     },
     "metadata": {},
     "output_type": "display_data"
    },
    {
     "name": "stdout",
     "output_type": "stream",
     "text": [
      "build right\n",
      "depth 9 column=-1, gini=100, value=None, samples=1 Int64Index([0, 1, 2], dtype='int64')\n",
      "leaf 1\n"
     ]
    },
    {
     "data": {
      "text/plain": [
       "column=0, gini=0.0, value=3.875, samples=2"
      ]
     },
     "metadata": {},
     "output_type": "display_data"
    },
    {
     "name": "stdout",
     "output_type": "stream",
     "text": [
      "build right\n",
      "depth 8 column=0, gini=0.0, value=3.875, samples=2 Int64Index([0, 1, 2], dtype='int64')\n",
      "leaf 1\n"
     ]
    },
    {
     "data": {
      "text/plain": [
       "column=-1, gini=100, value=None, samples=1"
      ]
     },
     "metadata": {},
     "output_type": "display_data"
    },
    {
     "name": "stdout",
     "output_type": "stream",
     "text": [
      "build right\n",
      "depth 7 column=-1, gini=100, value=None, samples=1 Int64Index([0, 1, 2], dtype='int64')\n",
      "leaf -1\n"
     ]
    },
    {
     "data": {
      "text/plain": [
       "column=0, gini=0.0, value=4.375, samples=5"
      ]
     },
     "metadata": {},
     "output_type": "display_data"
    },
    {
     "name": "stdout",
     "output_type": "stream",
     "text": [
      "build right\n",
      "depth 4 column=0, gini=0.0, value=4.375, samples=5 Int64Index([0, 1, 2], dtype='int64')\n",
      "leaf 1\n"
     ]
    },
    {
     "data": {
      "text/plain": [
       "column=0, gini=0.0, value=2.6, samples=12"
      ]
     },
     "metadata": {},
     "output_type": "display_data"
    },
    {
     "name": "stdout",
     "output_type": "stream",
     "text": [
      "build right\n",
      "depth 3 column=0, gini=0.0, value=2.6, samples=12 Int64Index([0, 1, 2], dtype='int64')\n",
      "leaf -1\n",
      "Correct=140/140\n",
      "                                 ┌class=1, s=43\n",
      "                  ┌0, v=0.8, s=54┤\n",
      "                  │              │              ┌class=1, s=7\n",
      "                  │              └1, v=1.6, s=11┤\n",
      "                  │                             │               ┌class=1, s=1\n",
      "                  │                             └0, v=0.475, s=4┤\n",
      "                  │                                             └class=-1, s=3\n",
      " 1, v=2.625, s=140┤\n",
      "                  │                                 ┌class=-1, s=37\n",
      "                  │                ┌1, v=2.975, s=47┤\n",
      "                  │                │                │                ┌class=-1, s=6\n",
      "                  │                │                └1, v=2.875, s=10┤\n",
      "                  │                │                                 │             ┌class=1, s=1\n",
      "                  │                │                                 └0, v=1.2, s=4┤\n",
      "                  │                │                                               │               ┌class=-1, s=2\n",
      "                  │                │                                               └0, v=1.675, s=3┤\n",
      "                  │                │                                                               └class=1, s=1\n",
      "                  └0, v=2.325, s=86┤\n",
      "                                   │               ┌class=-1, s=12\n",
      "                                   └1, v=4.25, s=39┤\n",
      "                                                   │                ┌class=1, s=5\n",
      "                                                   └0, v=4.175, s=27┤\n",
      "                                                                    │                               ┌class=-1, s=1\n",
      "                                                                    │                ┌0, v=3.55, s=8┤\n",
      "                                                                    │                │              │                            ┌class=1, s=4\n",
      "                                                                    │                │              └1, v=3.0999999999999996, s=7┤\n",
      "                                                                    │                │                                           │                            ┌class=1, s=2\n",
      "                                                                    │                │                                           └0, v=2.7249999999999996, s=3┤\n",
      "                                                                    │                │                                                                        └class=-1, s=1\n",
      "                                                                    └1, v=3.525, s=22┤\n",
      "                                                                                     │                            ┌class=-1, s=1\n",
      "                                                                                     │              ┌0, v=4.0, s=5┤\n",
      "                                                                                     │              │             │             ┌class=1, s=2\n",
      "                                                                                     │              │             └0, v=3.7, s=4┤\n",
      "                                                                                     │              │                           │               ┌class=-1, s=1\n",
      "                                                                                     │              │                           └1, v=4.125, s=2┤\n",
      "                                                                                     │              │                                           └class=1, s=1\n",
      "                                                                                     └0, v=3.5, s=14┤\n",
      "                                                                                                    │                            ┌class=1, s=1\n",
      "                                                                                                    └1, v=3.6500000000000004, s=9┤\n",
      "                                                                                                                                 │               ┌class=-1, s=3\n",
      "                                                                                                                                 └0, v=3.175, s=8┤\n",
      "                                                                                                                                                 │              ┌class=1, s=1\n",
      "                                                                                                                                                 └0, v=3.05, s=5┤\n",
      "                                                                                                                                                                │               ┌class=-1, s=2\n",
      "                                                                                                                                                                └0, v=2.875, s=4┤\n",
      "                                                                                                                                                                                │              ┌class=-1, s=1\n",
      "                                                                                                                                                                                └0, v=2.65, s=2┤\n",
      "                                                                                                                                                                                               └class=1, s=1\n",
      "column=1, value=2.625\n",
      "     column=0, value=0.8\n",
      "          column=1, value=1.6\n",
      "               column=0, class=1\n",
      "               column=0, value=0.475\n",
      "                    column=-1, class=1\n",
      "                    column=0, class=-1\n",
      "          column=0, class=1\n",
      "     column=0, value=2.325\n",
      "          column=1, value=2.975\n",
      "               column=1, value=2.875\n",
      "                    column=0, class=-1\n",
      "                    column=0, value=1.2\n",
      "                         column=-1, class=1\n",
      "                         column=0, value=1.675\n",
      "                              column=0, class=-1\n",
      "                              column=-1, class=1\n",
      "               column=0, class=-1\n",
      "          column=1, value=4.25\n",
      "               column=0, value=4.175\n",
      "                    column=1, value=3.525\n",
      "                         column=0, value=3.55\n",
      "                              column=1, value=3.0999999999999996\n",
      "                                   column=0, value=2.7249999999999996\n",
      "                                        column=0, class=1\n",
      "                                        column=-1, class=-1\n",
      "                                   column=0, class=1\n",
      "                              column=-1, class=-1\n",
      "                         column=0, value=3.5\n",
      "                              column=1, value=3.6500000000000004\n",
      "                                   column=-1, class=1\n",
      "                                   column=0, value=3.175\n",
      "                                        column=0, value=3.05\n",
      "                                             column=0, value=2.875\n",
      "                                                  column=0, value=2.65\n",
      "                                                       column=-1, class=-1\n",
      "                                                       column=-1, class=1\n",
      "                                                  column=1, class=-1\n",
      "                                             column=-1, class=1\n",
      "                                        column=0, class=-1\n",
      "                              column=0, value=4.0\n",
      "                                   column=0, value=3.7\n",
      "                                        column=1, value=4.125\n",
      "                                             column=-1, class=-1\n",
      "                                             column=-1, class=1\n",
      "                                        column=0, class=1\n",
      "                                   column=-1, class=-1\n",
      "                    column=0, class=1\n",
      "               column=0, class=-1\n"
     ]
    }
   ],
   "source": [
    "do_all(nonsep)"
   ]
  }
 ],
 "metadata": {
  "kernelspec": {
   "display_name": "Python 3",
   "language": "python",
   "name": "python3"
  },
  "language_info": {
   "codemirror_mode": {
    "name": "ipython",
    "version": 3
   },
   "file_extension": ".py",
   "mimetype": "text/x-python",
   "name": "python",
   "nbconvert_exporter": "python",
   "pygments_lexer": "ipython3",
   "version": "3.7.0"
  }
 },
 "nbformat": 4,
 "nbformat_minor": 2
}
