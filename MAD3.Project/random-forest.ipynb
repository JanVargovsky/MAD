{
 "cells": [
  {
   "cell_type": "markdown",
   "metadata": {},
   "source": [
    "# Random forest classifier"
   ]
  },
  {
   "cell_type": "markdown",
   "metadata": {},
   "source": [
    "Method implementation and results comparison for 25 points.\n",
    "\n",
    "Evaluation of the implemented method on the standard dataset and comparison of the results with standard implementation (2-4h)."
   ]
  },
  {
   "cell_type": "code",
   "execution_count": 4,
   "metadata": {},
   "outputs": [],
   "source": [
    "import pandas as pd\n",
    "from sklearn.datasets import make_classification\n",
    "from sklearn.model_selection import train_test_split\n",
    "import matplotlib.pyplot as plt"
   ]
  },
  {
   "cell_type": "code",
   "execution_count": 5,
   "metadata": {},
   "outputs": [],
   "source": [
    "plt.style.use('ggplot')"
   ]
  },
  {
   "cell_type": "code",
   "execution_count": 6,
   "metadata": {},
   "outputs": [
    {
     "data": {
      "text/html": [
       "<div>\n",
       "<style scoped>\n",
       "    .dataframe tbody tr th:only-of-type {\n",
       "        vertical-align: middle;\n",
       "    }\n",
       "\n",
       "    .dataframe tbody tr th {\n",
       "        vertical-align: top;\n",
       "    }\n",
       "\n",
       "    .dataframe thead th {\n",
       "        text-align: right;\n",
       "    }\n",
       "</style>\n",
       "<table border=\"1\" class=\"dataframe\">\n",
       "  <thead>\n",
       "    <tr style=\"text-align: right;\">\n",
       "      <th></th>\n",
       "      <th>0</th>\n",
       "      <th>1</th>\n",
       "      <th>2</th>\n",
       "      <th>3</th>\n",
       "      <th>4</th>\n",
       "      <th>class</th>\n",
       "    </tr>\n",
       "  </thead>\n",
       "  <tbody>\n",
       "    <tr>\n",
       "      <th>0</th>\n",
       "      <td>0.535996</td>\n",
       "      <td>0.215099</td>\n",
       "      <td>0.148667</td>\n",
       "      <td>1.255488</td>\n",
       "      <td>-0.337086</td>\n",
       "      <td>0</td>\n",
       "    </tr>\n",
       "    <tr>\n",
       "      <th>1</th>\n",
       "      <td>-1.007492</td>\n",
       "      <td>-3.018286</td>\n",
       "      <td>1.227669</td>\n",
       "      <td>-0.295163</td>\n",
       "      <td>-1.209641</td>\n",
       "      <td>0</td>\n",
       "    </tr>\n",
       "    <tr>\n",
       "      <th>2</th>\n",
       "      <td>0.949206</td>\n",
       "      <td>-0.194437</td>\n",
       "      <td>0.840644</td>\n",
       "      <td>0.216492</td>\n",
       "      <td>-0.652624</td>\n",
       "      <td>0</td>\n",
       "    </tr>\n",
       "    <tr>\n",
       "      <th>3</th>\n",
       "      <td>0.853769</td>\n",
       "      <td>0.592883</td>\n",
       "      <td>-0.213443</td>\n",
       "      <td>0.402676</td>\n",
       "      <td>1.490726</td>\n",
       "      <td>0</td>\n",
       "    </tr>\n",
       "    <tr>\n",
       "      <th>4</th>\n",
       "      <td>2.245707</td>\n",
       "      <td>-1.718681</td>\n",
       "      <td>1.148766</td>\n",
       "      <td>1.584767</td>\n",
       "      <td>-1.739714</td>\n",
       "      <td>1</td>\n",
       "    </tr>\n",
       "  </tbody>\n",
       "</table>\n",
       "</div>"
      ],
      "text/plain": [
       "          0         1         2         3         4  class\n",
       "0  0.535996  0.215099  0.148667  1.255488 -0.337086      0\n",
       "1 -1.007492 -3.018286  1.227669 -0.295163 -1.209641      0\n",
       "2  0.949206 -0.194437  0.840644  0.216492 -0.652624      0\n",
       "3  0.853769  0.592883 -0.213443  0.402676  1.490726      0\n",
       "4  2.245707 -1.718681  1.148766  1.584767 -1.739714      1"
      ]
     },
     "execution_count": 6,
     "metadata": {},
     "output_type": "execute_result"
    }
   ],
   "source": [
    "x, y = make_classification(n_samples=300, n_features=5, n_informative=3, n_classes=3, n_redundant=0, random_state=42)\n",
    "df = pd.DataFrame(data=x)\n",
    "df['class'] = y\n",
    "df.head()"
   ]
  },
  {
   "cell_type": "code",
   "execution_count": 7,
   "metadata": {},
   "outputs": [
    {
     "data": {
      "text/plain": [
       "(225, 6)"
      ]
     },
     "metadata": {},
     "output_type": "display_data"
    },
    {
     "data": {
      "text/plain": [
       "(75, 6)"
      ]
     },
     "metadata": {},
     "output_type": "display_data"
    }
   ],
   "source": [
    "train, test = train_test_split(df)\n",
    "\n",
    "display(train.shape)\n",
    "display(test.shape)"
   ]
  },
  {
   "cell_type": "code",
   "execution_count": 11,
   "metadata": {},
   "outputs": [
    {
     "data": {
      "text/plain": [
       "'My score:'"
      ]
     },
     "metadata": {},
     "output_type": "display_data"
    },
    {
     "data": {
      "text/plain": [
       "0.8133333333333334"
      ]
     },
     "metadata": {},
     "output_type": "display_data"
    },
    {
     "data": {
      "text/plain": [
       "'Other:'"
      ]
     },
     "metadata": {},
     "output_type": "display_data"
    },
    {
     "data": {
      "text/plain": [
       "0.8"
      ]
     },
     "metadata": {},
     "output_type": "display_data"
    }
   ],
   "source": [
    "%run DecisionTree.py\n",
    "dt = DecisionTree()\n",
    "dt.fit(train)\n",
    "score = dt.score(test)\n",
    "\n",
    "from sklearn.tree import DecisionTreeClassifier\n",
    "dtc = DecisionTreeClassifier(random_state=42)\n",
    "dtc.fit(train.drop('class', axis=1), train['class'])\n",
    "other_score = dtc.score(test.drop('class', axis=1), test['class'])\n",
    "\n",
    "display(\"My score={}, Other={}\".format(score, other_score))"
   ]
  },
  {
   "cell_type": "code",
   "execution_count": 16,
   "metadata": {},
   "outputs": [
    {
     "data": {
      "text/plain": [
       "'N=1 My score=0.7333333333333333, Other=0.7733333333333333'"
      ]
     },
     "metadata": {},
     "output_type": "display_data"
    },
    {
     "data": {
      "text/plain": [
       "'N=2 My score=0.7333333333333333, Other=0.68'"
      ]
     },
     "metadata": {},
     "output_type": "display_data"
    },
    {
     "data": {
      "text/plain": [
       "'N=3 My score=0.76, Other=0.7466666666666667'"
      ]
     },
     "metadata": {},
     "output_type": "display_data"
    },
    {
     "data": {
      "text/plain": [
       "'N=5 My score=0.7466666666666667, Other=0.8'"
      ]
     },
     "metadata": {},
     "output_type": "display_data"
    },
    {
     "data": {
      "text/plain": [
       "'N=10 My score=0.8533333333333334, Other=0.8266666666666667'"
      ]
     },
     "metadata": {},
     "output_type": "display_data"
    },
    {
     "data": {
      "text/plain": [
       "'N=15 My score=0.8266666666666667, Other=0.8133333333333334'"
      ]
     },
     "metadata": {},
     "output_type": "display_data"
    },
    {
     "data": {
      "text/plain": [
       "'N=20 My score=0.8533333333333334, Other=0.8'"
      ]
     },
     "metadata": {},
     "output_type": "display_data"
    },
    {
     "data": {
      "text/plain": [
       "'N=30 My score=0.8666666666666667, Other=0.8266666666666667'"
      ]
     },
     "metadata": {},
     "output_type": "display_data"
    }
   ],
   "source": [
    "%run RandomForest\n",
    "from sklearn.ensemble import RandomForestClassifier\n",
    "\n",
    "n_trees = [1, 2, 3, 5, 10, 15, 20, 30]\n",
    "scores = []\n",
    "other_scores = []\n",
    "\n",
    "for n in n_trees:\n",
    "    rf = RandomForest(n_trees=n, seed=42)\n",
    "    rf.fit(train)\n",
    "    score = rf.score(test)\n",
    "    scores.append(score)\n",
    "    \n",
    "    rfc = RandomForestClassifier(n_estimators=n, random_state=42)\n",
    "    rfc.fit(train.drop('class', axis=1), train['class'])\n",
    "    other_score = rfc.score(test.drop('class', axis=1), test['class'])\n",
    "    other_scores.append(other_score)\n",
    "    display(\"N={} My score={}, Other={}\".format(n, score, other_score))"
   ]
  },
  {
   "cell_type": "code",
   "execution_count": 20,
   "metadata": {},
   "outputs": [
    {
     "data": {
      "image/png": "[encoded data removed]",
      "text/plain": [
       "<matplotlib.figure.Figure at 0x1c33c131b38>"
      ]
     },
     "metadata": {},
     "output_type": "display_data"
    }
   ],
   "source": [
    "plt.plot(n_trees, scores, label=\"custom\")\n",
    "plt.plot(n_trees, other_scores, label=\"other\")\n",
    "plt.xticks(n_trees)\n",
    "plt.title(\"Random forest algorithm implementations comparison\")\n",
    "plt.xlabel(\"number of trees\")\n",
    "plt.ylabel(\"accuracy\")\n",
    "plt.legend()\n",
    "plt.show()"
   ]
  }
 ],
 "metadata": {
  "kernelspec": {
   "display_name": "Python 3",
   "language": "python",
   "name": "python3"
  },
  "language_info": {
   "codemirror_mode": {
    "name": "ipython",
    "version": 3
   },
   "file_extension": ".py",
   "mimetype": "text/x-python",
   "name": "python",
   "nbconvert_exporter": "python",
   "pygments_lexer": "ipython3",
   "version": "3.6.6"
  }
 },
 "nbformat": 4,
 "nbformat_minor": 2
}
